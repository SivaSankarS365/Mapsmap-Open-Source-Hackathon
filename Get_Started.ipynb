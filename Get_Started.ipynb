{
 "cells": [
  {
   "cell_type": "code",
   "execution_count": 1,
   "metadata": {},
   "outputs": [],
   "source": [
    "# Import the classes\n",
    "from Tags import Tags\n",
    "from Tagger import Tagger\n",
    "from Graph import Graph"
   ]
  },
  {
   "cell_type": "code",
   "execution_count": 2,
   "metadata": {},
   "outputs": [
    {
     "name": "stderr",
     "output_type": "stream",
     "text": [
      "100%|██████████| 833/833 [01:36<00:00,  8.65it/s]\n"
     ]
    }
   ],
   "source": [
    "# Define the Object, takes time to load\n",
    "tagger = Tagger()\n",
    "G = Graph()\n",
    "tags = Tags()"
   ]
  },
  {
   "cell_type": "code",
   "execution_count": 4,
   "metadata": {},
   "outputs": [
    {
     "name": "stdout",
     "output_type": "stream",
     "text": [
      "['terminology', 'names']\n",
      "['planets', 'gravity', 'mars', 'earth']\n"
     ]
    }
   ],
   "source": [
    "# Make predictions\n",
    "print(tagger.predict(\"Which is your name?\",AI_cutoff=0.7))\n",
    "print(tagger.predict(\"Why earth is spherical? Why earth cannot be flat?\"))"
   ]
  },
  {
   "cell_type": "code",
   "execution_count": 18,
   "metadata": {},
   "outputs": [
    {
     "name": "stdout",
     "output_type": "stream",
     "text": [
      "Added\n"
     ]
    },
    {
     "name": "stderr",
     "output_type": "stream",
     "text": [
      "100%|██████████| 834/834 [00:00<00:00, 75805.60it/s]\n",
      "100%|██████████| 833/833 [00:05<00:00, 162.81it/s]\n"
     ]
    }
   ],
   "source": [
    "# Add tags\n",
    "tags.add('water_bottle')\n",
    "G.update()"
   ]
  },
  {
   "cell_type": "code",
   "execution_count": 25,
   "metadata": {},
   "outputs": [
    {
     "name": "stdout",
     "output_type": "stream",
     "text": [
      "water_bottle  related to  water\n"
     ]
    }
   ],
   "source": [
    "# Get all the mapped edges\n",
    "edges = G.get_edges() \n",
    "\n",
    "# Printing maps related to newly added tag 'water_bottle'\n",
    "for e in edges:\n",
    "    if e['source']=='water_bottle' or e['to']=='water_bottle':\n",
    "        print(e['source'],' related to ',e['to'])\n"
   ]
  },
  {
   "cell_type": "code",
   "execution_count": 26,
   "metadata": {},
   "outputs": [
    {
     "name": "stdout",
     "output_type": "stream",
     "text": [
      "Tag removed from blue list\n"
     ]
    },
    {
     "name": "stderr",
     "output_type": "stream",
     "text": [
      "100%|██████████| 833/833 [00:00<00:00, 831276.52it/s]\n",
      "0it [00:00, ?it/s]\n"
     ]
    }
   ],
   "source": [
    "# Remove tags\n",
    "tags.remove('water_bottle')\n",
    "G.update()"
   ]
  },
  {
   "cell_type": "code",
   "execution_count": 33,
   "metadata": {},
   "outputs": [],
   "source": [
    "# Get latest white list, blue list, black list\n",
    "white = tags.get_white_tags()\n",
    "black = tags.get_black_tags()\n",
    "blue = tags.get_blue_tags()"
   ]
  }
 ],
 "metadata": {
  "interpreter": {
   "hash": "31289f0aa1d4ead8d430c4204ed564dfbd3fdae2ffb05247fec2f6abe322d9e2"
  },
  "kernelspec": {
   "display_name": "Python 3.9.7 ('NLP')",
   "language": "python",
   "name": "python3"
  },
  "language_info": {
   "codemirror_mode": {
    "name": "ipython",
    "version": 3
   },
   "file_extension": ".py",
   "mimetype": "text/x-python",
   "name": "python",
   "nbconvert_exporter": "python",
   "pygments_lexer": "ipython3",
   "version": "3.9.7"
  },
  "orig_nbformat": 4
 },
 "nbformat": 4,
 "nbformat_minor": 2
}
